{
  "nbformat": 4,
  "nbformat_minor": 0,
  "metadata": {
    "colab": {
      "provenance": [],
      "include_colab_link": true
    },
    "kernelspec": {
      "name": "python3",
      "display_name": "Python 3"
    },
    "language_info": {
      "name": "python"
    }
  },
  "cells": [
    {
      "cell_type": "markdown",
      "metadata": {
        "id": "view-in-github",
        "colab_type": "text"
      },
      "source": [
        "<a href=\"https://colab.research.google.com/github/shaqayeqnaderlou/rnaseq/blob/master/peptides__project_Shaghayegh.ipynb\" target=\"_parent\"><img src=\"https://colab.research.google.com/assets/colab-badge.svg\" alt=\"Open In Colab\"/></a>"
      ]
    },
    {
      "cell_type": "code",
      "execution_count": null,
      "metadata": {
        "colab": {
          "base_uri": "https://localhost:8080/"
        },
        "id": "kC1H5euMtGBY",
        "outputId": "42917e55-01f7-494b-fa5b-090a960f4533"
      },
      "outputs": [
        {
          "output_type": "stream",
          "name": "stdout",
          "text": [
            "Collecting peptides\n",
            "  Downloading peptides-0.3.2-py3-none-any.whl (115 kB)\n",
            "\u001b[?25l     \u001b[90m━━━━━━━━━━━━━━━━━━━━━━━━━━━━━━━━━━━━━━━━\u001b[0m \u001b[32m0.0/115.4 kB\u001b[0m \u001b[31m?\u001b[0m eta \u001b[36m-:--:--\u001b[0m\r\u001b[2K     \u001b[91m━━━━━━━━━━━━━━━━━━━━━━━━━━━━━━━━━━━━━━━\u001b[0m\u001b[90m╺\u001b[0m \u001b[32m112.6/115.4 kB\u001b[0m \u001b[31m3.6 MB/s\u001b[0m eta \u001b[36m0:00:01\u001b[0m\r\u001b[2K     \u001b[90m━━━━━━━━━━━━━━━━━━━━━━━━━━━━━━━━━━━━━━━━\u001b[0m \u001b[32m115.4/115.4 kB\u001b[0m \u001b[31m2.9 MB/s\u001b[0m eta \u001b[36m0:00:00\u001b[0m\n",
            "\u001b[?25hInstalling collected packages: peptides\n",
            "Successfully installed peptides-0.3.2\n"
          ]
        }
      ],
      "source": [
        "! pip install peptides"
      ]
    },
    {
      "cell_type": "code",
      "source": [
        "import pandas"
      ],
      "metadata": {
        "id": "uSmIe2NUyk-g"
      },
      "execution_count": null,
      "outputs": []
    },
    {
      "cell_type": "code",
      "source": [
        "import peptides\n",
        "peptide = peptides.Peptide(\"MLKKRFLGALAVATLLTLSFGTPVMAQSGSAVFTNEGVTPTAMLSRRR\")"
      ],
      "metadata": {
        "id": "HMUxnZt9tPdM"
      },
      "execution_count": null,
      "outputs": []
    },
    {
      "cell_type": "code",
      "source": [
        "peptide.aliphatic_index()"
      ],
      "metadata": {
        "colab": {
          "base_uri": "https://localhost:8080/"
        },
        "id": "bR_APX_jySBw",
        "outputId": "48042e42-c86c-45da-f08f-00afe6719be6"
      },
      "execution_count": null,
      "outputs": [
        {
          "output_type": "execute_result",
          "data": {
            "text/plain": [
              "93.54166666666666"
            ]
          },
          "metadata": {},
          "execution_count": 14
        }
      ]
    },
    {
      "cell_type": "code",
      "source": [
        "peptide.boman()\n"
      ],
      "metadata": {
        "colab": {
          "base_uri": "https://localhost:8080/"
        },
        "id": "9eH8upX7ySyo",
        "outputId": "30e8eb42-1b7f-446a-d358-15a0fa4064f4"
      },
      "execution_count": null,
      "outputs": [
        {
          "output_type": "execute_result",
          "data": {
            "text/plain": [
              "-0.20979999999999996"
            ]
          },
          "metadata": {},
          "execution_count": 12
        }
      ]
    },
    {
      "cell_type": "code",
      "source": [
        "peptide.charge(pH=7.4)\n"
      ],
      "metadata": {
        "colab": {
          "base_uri": "https://localhost:8080/"
        },
        "id": "IJQAAgezyTv5",
        "outputId": "dc190d45-64aa-4566-d1e6-e276e9736990"
      },
      "execution_count": null,
      "outputs": [
        {
          "output_type": "execute_result",
          "data": {
            "text/plain": [
              "1.9919904684011036"
            ]
          },
          "metadata": {},
          "execution_count": 13
        }
      ]
    },
    {
      "cell_type": "code",
      "source": [
        "peptide.isoelectric_point()\n"
      ],
      "metadata": {
        "colab": {
          "base_uri": "https://localhost:8080/"
        },
        "id": "2FCq3hCJyUqh",
        "outputId": "4170b7b3-47eb-4ee2-b7ed-728079c4880e"
      },
      "execution_count": null,
      "outputs": [
        {
          "output_type": "execute_result",
          "data": {
            "text/plain": [
              "10.243657696060836"
            ]
          },
          "metadata": {},
          "execution_count": 14
        }
      ]
    },
    {
      "cell_type": "code",
      "source": [
        "peptide.ms_whim_scores()"
      ],
      "metadata": {
        "colab": {
          "base_uri": "https://localhost:8080/"
        },
        "id": "N9gLS86HyHIP",
        "outputId": "f58f8d3f-b681-4de1-fbf8-bc3f3180e769"
      },
      "execution_count": null,
      "outputs": [
        {
          "output_type": "execute_result",
          "data": {
            "text/plain": [
              "MSWHIMScores(mswhim1=-0.43639999999999995, mswhim2=0.4916, mswhim3=-0.49200000000000005)"
            ]
          },
          "metadata": {},
          "execution_count": 15
        }
      ]
    },
    {
      "cell_type": "code",
      "source": [
        "seqs = [\"SDKEVDEVDAALSDLEITLE\", \"ARQQNLFINFCLILIFLLLI\", \"EGVNDNECEGFFSAR\"]"
      ],
      "metadata": {
        "id": "3MbLxCXSyftW"
      },
      "execution_count": null,
      "outputs": []
    },
    {
      "cell_type": "code",
      "source": [
        "df = pandas.DataFrame([ peptides.Peptide(s).descriptors() for s in seqs ])"
      ],
      "metadata": {
        "id": "wJ9shR8ZygaI"
      },
      "execution_count": null,
      "outputs": []
    },
    {
      "cell_type": "code",
      "source": [
        "df"
      ],
      "metadata": {
        "colab": {
          "base_uri": "https://localhost:8080/",
          "height": 193
        },
        "id": "JKCenwS2yuIK",
        "outputId": "b4fc7d0a-0b88-48fa-ad16-fd897fc0ba92"
      },
      "execution_count": null,
      "outputs": [
        {
          "output_type": "execute_result",
          "data": {
            "text/plain": [
              "    BLOSUM1   BLOSUM2  BLOSUM3   BLOSUM4  BLOSUM5   BLOSUM6   BLOSUM7  \\\n",
              "0  0.367000 -0.436000   -0.239  0.014500  -0.2535  0.164000 -0.452500   \n",
              "1 -0.697500 -0.372500   -0.493  0.157000   0.0360  0.243500 -0.014000   \n",
              "2  0.479333 -0.001333    0.138  0.228667  -0.0560  0.295333 -0.115333   \n",
              "\n",
              "    BLOSUM8   BLOSUM9  BLOSUM10  ...     VHSE4     VHSE5     VHSE6     VHSE7  \\\n",
              "0  0.036000  0.286500  0.053000  ... -0.477000 -0.849000 -0.229000  0.182000   \n",
              "1  0.088500 -0.142500 -0.119000  ... -0.532000  0.196000 -0.476000 -0.152000   \n",
              "2  0.142667  0.168667 -0.104667  ...  0.300667 -0.623333  0.088667  0.316667   \n",
              "\n",
              "      VHSE8      Z1        Z2        Z3        Z4        Z5  \n",
              "0  0.002500  0.7375 -0.711000 -0.104500 -1.486500  0.429500  \n",
              "1 -0.355000 -1.9850 -0.307500 -0.627500 -0.450500  0.362000  \n",
              "2 -0.254667  1.2980 -0.299333  0.465333 -0.976667  0.023333  \n",
              "\n",
              "[3 rows x 88 columns]"
            ],
            "text/html": [
              "\n",
              "  <div id=\"df-ed07a6bf-40ee-4394-b224-7e972c24e5d2\" class=\"colab-df-container\">\n",
              "    <div>\n",
              "<style scoped>\n",
              "    .dataframe tbody tr th:only-of-type {\n",
              "        vertical-align: middle;\n",
              "    }\n",
              "\n",
              "    .dataframe tbody tr th {\n",
              "        vertical-align: top;\n",
              "    }\n",
              "\n",
              "    .dataframe thead th {\n",
              "        text-align: right;\n",
              "    }\n",
              "</style>\n",
              "<table border=\"1\" class=\"dataframe\">\n",
              "  <thead>\n",
              "    <tr style=\"text-align: right;\">\n",
              "      <th></th>\n",
              "      <th>BLOSUM1</th>\n",
              "      <th>BLOSUM2</th>\n",
              "      <th>BLOSUM3</th>\n",
              "      <th>BLOSUM4</th>\n",
              "      <th>BLOSUM5</th>\n",
              "      <th>BLOSUM6</th>\n",
              "      <th>BLOSUM7</th>\n",
              "      <th>BLOSUM8</th>\n",
              "      <th>BLOSUM9</th>\n",
              "      <th>BLOSUM10</th>\n",
              "      <th>...</th>\n",
              "      <th>VHSE4</th>\n",
              "      <th>VHSE5</th>\n",
              "      <th>VHSE6</th>\n",
              "      <th>VHSE7</th>\n",
              "      <th>VHSE8</th>\n",
              "      <th>Z1</th>\n",
              "      <th>Z2</th>\n",
              "      <th>Z3</th>\n",
              "      <th>Z4</th>\n",
              "      <th>Z5</th>\n",
              "    </tr>\n",
              "  </thead>\n",
              "  <tbody>\n",
              "    <tr>\n",
              "      <th>0</th>\n",
              "      <td>0.367000</td>\n",
              "      <td>-0.436000</td>\n",
              "      <td>-0.239</td>\n",
              "      <td>0.014500</td>\n",
              "      <td>-0.2535</td>\n",
              "      <td>0.164000</td>\n",
              "      <td>-0.452500</td>\n",
              "      <td>0.036000</td>\n",
              "      <td>0.286500</td>\n",
              "      <td>0.053000</td>\n",
              "      <td>...</td>\n",
              "      <td>-0.477000</td>\n",
              "      <td>-0.849000</td>\n",
              "      <td>-0.229000</td>\n",
              "      <td>0.182000</td>\n",
              "      <td>0.002500</td>\n",
              "      <td>0.7375</td>\n",
              "      <td>-0.711000</td>\n",
              "      <td>-0.104500</td>\n",
              "      <td>-1.486500</td>\n",
              "      <td>0.429500</td>\n",
              "    </tr>\n",
              "    <tr>\n",
              "      <th>1</th>\n",
              "      <td>-0.697500</td>\n",
              "      <td>-0.372500</td>\n",
              "      <td>-0.493</td>\n",
              "      <td>0.157000</td>\n",
              "      <td>0.0360</td>\n",
              "      <td>0.243500</td>\n",
              "      <td>-0.014000</td>\n",
              "      <td>0.088500</td>\n",
              "      <td>-0.142500</td>\n",
              "      <td>-0.119000</td>\n",
              "      <td>...</td>\n",
              "      <td>-0.532000</td>\n",
              "      <td>0.196000</td>\n",
              "      <td>-0.476000</td>\n",
              "      <td>-0.152000</td>\n",
              "      <td>-0.355000</td>\n",
              "      <td>-1.9850</td>\n",
              "      <td>-0.307500</td>\n",
              "      <td>-0.627500</td>\n",
              "      <td>-0.450500</td>\n",
              "      <td>0.362000</td>\n",
              "    </tr>\n",
              "    <tr>\n",
              "      <th>2</th>\n",
              "      <td>0.479333</td>\n",
              "      <td>-0.001333</td>\n",
              "      <td>0.138</td>\n",
              "      <td>0.228667</td>\n",
              "      <td>-0.0560</td>\n",
              "      <td>0.295333</td>\n",
              "      <td>-0.115333</td>\n",
              "      <td>0.142667</td>\n",
              "      <td>0.168667</td>\n",
              "      <td>-0.104667</td>\n",
              "      <td>...</td>\n",
              "      <td>0.300667</td>\n",
              "      <td>-0.623333</td>\n",
              "      <td>0.088667</td>\n",
              "      <td>0.316667</td>\n",
              "      <td>-0.254667</td>\n",
              "      <td>1.2980</td>\n",
              "      <td>-0.299333</td>\n",
              "      <td>0.465333</td>\n",
              "      <td>-0.976667</td>\n",
              "      <td>0.023333</td>\n",
              "    </tr>\n",
              "  </tbody>\n",
              "</table>\n",
              "<p>3 rows × 88 columns</p>\n",
              "</div>\n",
              "    <div class=\"colab-df-buttons\">\n",
              "\n",
              "  <div class=\"colab-df-container\">\n",
              "    <button class=\"colab-df-convert\" onclick=\"convertToInteractive('df-ed07a6bf-40ee-4394-b224-7e972c24e5d2')\"\n",
              "            title=\"Convert this dataframe to an interactive table.\"\n",
              "            style=\"display:none;\">\n",
              "\n",
              "  <svg xmlns=\"http://www.w3.org/2000/svg\" height=\"24px\" viewBox=\"0 -960 960 960\">\n",
              "    <path d=\"M120-120v-720h720v720H120Zm60-500h600v-160H180v160Zm220 220h160v-160H400v160Zm0 220h160v-160H400v160ZM180-400h160v-160H180v160Zm440 0h160v-160H620v160ZM180-180h160v-160H180v160Zm440 0h160v-160H620v160Z\"/>\n",
              "  </svg>\n",
              "    </button>\n",
              "\n",
              "  <style>\n",
              "    .colab-df-container {\n",
              "      display:flex;\n",
              "      gap: 12px;\n",
              "    }\n",
              "\n",
              "    .colab-df-convert {\n",
              "      background-color: #E8F0FE;\n",
              "      border: none;\n",
              "      border-radius: 50%;\n",
              "      cursor: pointer;\n",
              "      display: none;\n",
              "      fill: #1967D2;\n",
              "      height: 32px;\n",
              "      padding: 0 0 0 0;\n",
              "      width: 32px;\n",
              "    }\n",
              "\n",
              "    .colab-df-convert:hover {\n",
              "      background-color: #E2EBFA;\n",
              "      box-shadow: 0px 1px 2px rgba(60, 64, 67, 0.3), 0px 1px 3px 1px rgba(60, 64, 67, 0.15);\n",
              "      fill: #174EA6;\n",
              "    }\n",
              "\n",
              "    .colab-df-buttons div {\n",
              "      margin-bottom: 4px;\n",
              "    }\n",
              "\n",
              "    [theme=dark] .colab-df-convert {\n",
              "      background-color: #3B4455;\n",
              "      fill: #D2E3FC;\n",
              "    }\n",
              "\n",
              "    [theme=dark] .colab-df-convert:hover {\n",
              "      background-color: #434B5C;\n",
              "      box-shadow: 0px 1px 3px 1px rgba(0, 0, 0, 0.15);\n",
              "      filter: drop-shadow(0px 1px 2px rgba(0, 0, 0, 0.3));\n",
              "      fill: #FFFFFF;\n",
              "    }\n",
              "  </style>\n",
              "\n",
              "    <script>\n",
              "      const buttonEl =\n",
              "        document.querySelector('#df-ed07a6bf-40ee-4394-b224-7e972c24e5d2 button.colab-df-convert');\n",
              "      buttonEl.style.display =\n",
              "        google.colab.kernel.accessAllowed ? 'block' : 'none';\n",
              "\n",
              "      async function convertToInteractive(key) {\n",
              "        const element = document.querySelector('#df-ed07a6bf-40ee-4394-b224-7e972c24e5d2');\n",
              "        const dataTable =\n",
              "          await google.colab.kernel.invokeFunction('convertToInteractive',\n",
              "                                                    [key], {});\n",
              "        if (!dataTable) return;\n",
              "\n",
              "        const docLinkHtml = 'Like what you see? Visit the ' +\n",
              "          '<a target=\"_blank\" href=https://colab.research.google.com/notebooks/data_table.ipynb>data table notebook</a>'\n",
              "          + ' to learn more about interactive tables.';\n",
              "        element.innerHTML = '';\n",
              "        dataTable['output_type'] = 'display_data';\n",
              "        await google.colab.output.renderOutput(dataTable, element);\n",
              "        const docLink = document.createElement('div');\n",
              "        docLink.innerHTML = docLinkHtml;\n",
              "        element.appendChild(docLink);\n",
              "      }\n",
              "    </script>\n",
              "  </div>\n",
              "\n",
              "\n",
              "<div id=\"df-bd8622b8-a523-4d9d-a0a0-2ff8de5b3bbd\">\n",
              "  <button class=\"colab-df-quickchart\" onclick=\"quickchart('df-bd8622b8-a523-4d9d-a0a0-2ff8de5b3bbd')\"\n",
              "            title=\"Suggest charts\"\n",
              "            style=\"display:none;\">\n",
              "\n",
              "<svg xmlns=\"http://www.w3.org/2000/svg\" height=\"24px\"viewBox=\"0 0 24 24\"\n",
              "     width=\"24px\">\n",
              "    <g>\n",
              "        <path d=\"M19 3H5c-1.1 0-2 .9-2 2v14c0 1.1.9 2 2 2h14c1.1 0 2-.9 2-2V5c0-1.1-.9-2-2-2zM9 17H7v-7h2v7zm4 0h-2V7h2v10zm4 0h-2v-4h2v4z\"/>\n",
              "    </g>\n",
              "</svg>\n",
              "  </button>\n",
              "\n",
              "<style>\n",
              "  .colab-df-quickchart {\n",
              "      --bg-color: #E8F0FE;\n",
              "      --fill-color: #1967D2;\n",
              "      --hover-bg-color: #E2EBFA;\n",
              "      --hover-fill-color: #174EA6;\n",
              "      --disabled-fill-color: #AAA;\n",
              "      --disabled-bg-color: #DDD;\n",
              "  }\n",
              "\n",
              "  [theme=dark] .colab-df-quickchart {\n",
              "      --bg-color: #3B4455;\n",
              "      --fill-color: #D2E3FC;\n",
              "      --hover-bg-color: #434B5C;\n",
              "      --hover-fill-color: #FFFFFF;\n",
              "      --disabled-bg-color: #3B4455;\n",
              "      --disabled-fill-color: #666;\n",
              "  }\n",
              "\n",
              "  .colab-df-quickchart {\n",
              "    background-color: var(--bg-color);\n",
              "    border: none;\n",
              "    border-radius: 50%;\n",
              "    cursor: pointer;\n",
              "    display: none;\n",
              "    fill: var(--fill-color);\n",
              "    height: 32px;\n",
              "    padding: 0;\n",
              "    width: 32px;\n",
              "  }\n",
              "\n",
              "  .colab-df-quickchart:hover {\n",
              "    background-color: var(--hover-bg-color);\n",
              "    box-shadow: 0 1px 2px rgba(60, 64, 67, 0.3), 0 1px 3px 1px rgba(60, 64, 67, 0.15);\n",
              "    fill: var(--button-hover-fill-color);\n",
              "  }\n",
              "\n",
              "  .colab-df-quickchart-complete:disabled,\n",
              "  .colab-df-quickchart-complete:disabled:hover {\n",
              "    background-color: var(--disabled-bg-color);\n",
              "    fill: var(--disabled-fill-color);\n",
              "    box-shadow: none;\n",
              "  }\n",
              "\n",
              "  .colab-df-spinner {\n",
              "    border: 2px solid var(--fill-color);\n",
              "    border-color: transparent;\n",
              "    border-bottom-color: var(--fill-color);\n",
              "    animation:\n",
              "      spin 1s steps(1) infinite;\n",
              "  }\n",
              "\n",
              "  @keyframes spin {\n",
              "    0% {\n",
              "      border-color: transparent;\n",
              "      border-bottom-color: var(--fill-color);\n",
              "      border-left-color: var(--fill-color);\n",
              "    }\n",
              "    20% {\n",
              "      border-color: transparent;\n",
              "      border-left-color: var(--fill-color);\n",
              "      border-top-color: var(--fill-color);\n",
              "    }\n",
              "    30% {\n",
              "      border-color: transparent;\n",
              "      border-left-color: var(--fill-color);\n",
              "      border-top-color: var(--fill-color);\n",
              "      border-right-color: var(--fill-color);\n",
              "    }\n",
              "    40% {\n",
              "      border-color: transparent;\n",
              "      border-right-color: var(--fill-color);\n",
              "      border-top-color: var(--fill-color);\n",
              "    }\n",
              "    60% {\n",
              "      border-color: transparent;\n",
              "      border-right-color: var(--fill-color);\n",
              "    }\n",
              "    80% {\n",
              "      border-color: transparent;\n",
              "      border-right-color: var(--fill-color);\n",
              "      border-bottom-color: var(--fill-color);\n",
              "    }\n",
              "    90% {\n",
              "      border-color: transparent;\n",
              "      border-bottom-color: var(--fill-color);\n",
              "    }\n",
              "  }\n",
              "</style>\n",
              "\n",
              "  <script>\n",
              "    async function quickchart(key) {\n",
              "      const quickchartButtonEl =\n",
              "        document.querySelector('#' + key + ' button');\n",
              "      quickchartButtonEl.disabled = true;  // To prevent multiple clicks.\n",
              "      quickchartButtonEl.classList.add('colab-df-spinner');\n",
              "      try {\n",
              "        const charts = await google.colab.kernel.invokeFunction(\n",
              "            'suggestCharts', [key], {});\n",
              "      } catch (error) {\n",
              "        console.error('Error during call to suggestCharts:', error);\n",
              "      }\n",
              "      quickchartButtonEl.classList.remove('colab-df-spinner');\n",
              "      quickchartButtonEl.classList.add('colab-df-quickchart-complete');\n",
              "    }\n",
              "    (() => {\n",
              "      let quickchartButtonEl =\n",
              "        document.querySelector('#df-bd8622b8-a523-4d9d-a0a0-2ff8de5b3bbd button');\n",
              "      quickchartButtonEl.style.display =\n",
              "        google.colab.kernel.accessAllowed ? 'block' : 'none';\n",
              "    })();\n",
              "  </script>\n",
              "</div>\n",
              "    </div>\n",
              "  </div>\n"
            ],
            "application/vnd.google.colaboratory.intrinsic+json": {
              "type": "dataframe",
              "variable_name": "df"
            }
          },
          "metadata": {},
          "execution_count": 24
        }
      ]
    },
    {
      "cell_type": "markdown",
      "source": [
        "بخش دوم از این قسمت شروع میشه"
      ],
      "metadata": {
        "id": "HtRvkLg72FnQ"
      }
    },
    {
      "cell_type": "code",
      "source": [
        "import sys\n",
        "import optparse\n"
      ],
      "metadata": {
        "id": "031iwSz70l0j"
      },
      "execution_count": null,
      "outputs": []
    },
    {
      "cell_type": "code",
      "source": [
        "import numpy as np\n",
        "import pylab\n",
        "\n",
        "import json\n",
        "from json import encoder\n",
        "encoder.FLOAT_REPR = lambda o: format(o, '.2f')\n"
      ],
      "metadata": {
        "id": "O-n_9FFN0nBQ"
      },
      "execution_count": null,
      "outputs": []
    },
    {
      "cell_type": "code",
      "source": [
        "all_known_pKa_sets=['ProMoST',\n",
        "'IPC_peptide',\n",
        "'IPC2_peptide',\n",
        "'Gauci',\n",
        "'Bjellqvist',\n",
        "'Rodwell',\n",
        "'Grimsley',\n",
        "'Thurlkill',\n",
        "'EMBOSS',\n",
        "'DTASelect',\n",
        "'Solomon',\n",
        "'Sillero',\n",
        "'Lehninger',\n",
        "'Toseland',\n",
        "'Nozaki',\n",
        "'Dawson']"
      ],
      "metadata": {
        "id": "tzLuuu_u0ulI"
      },
      "execution_count": null,
      "outputs": []
    },
    {
      "cell_type": "code",
      "source": [
        "def list_to_comma_seprated_string(l):\n",
        "\ts=\"\"\n",
        "\tfor v in l: s+=str(v)+\",\"\n",
        "\treturn s[:-1]\n",
        "\n",
        "### Preselected set of pKa to display\n",
        "#pKa_sets_to_use=['IPC_peptide','ProMoST','Gauci_calib','Bjellqvist','Rodwell','Grimsley','Thurlkill','Solomon','Lehninger','EMBOSS']\n",
        "#pKa_sets_to_use=['IPC_peptide','ProMoST','Gauci','Bjellqvist','Grimsley','Thurlkill','Lehninger','Toseland']\n",
        "pKa_sets_to_use=['IPC2_peptide','IPC_peptide','ProMoST','Gauci','Grimsley','Thurlkill','Lehninger','Toseland']\n",
        "\n",
        "known_basic_res=['K','R','H']\n",
        "known_acidic_res=['D','E','C','Y','U']\n",
        "known_res=['G', 'A', 'S', 'P', 'V', 'T', 'C', 'I', 'L', 'N', 'D', 'Q', 'K', 'E', 'M', 'H', 'F', 'R', 'Y', 'W', 'X', 'Z', 'B', 'U']\n",
        "\n"
      ],
      "metadata": {
        "id": "0Wast0Xu0xUS"
      },
      "execution_count": null,
      "outputs": []
    },
    {
      "cell_type": "code",
      "source": [
        "def FillMissingAAtopKa_TerminusIonizableGroup(pKa_TerminusIonizableGroup):\n",
        "\n",
        "    # Calc average\n",
        "    sumNterm=0\n",
        "    sumCterm=0\n",
        "    #for k,v in pKa_TerminusIonizableGroup.iteritems():\n",
        "    for k in pKa_TerminusIonizableGroup.keys():\n",
        "        v = pKa_TerminusIonizableGroup[k]\n",
        "        sumNterm += v[0]\n",
        "        sumCterm += v[1]\n",
        "    avNterm = sumNterm / len(pKa_TerminusIonizableGroup.keys())\n",
        "    avCterm = sumCterm / len(pKa_TerminusIonizableGroup.keys())\n",
        "\n",
        "    for R in known_res:\n",
        "        if R not in pKa_TerminusIonizableGroup.keys():\n",
        "            if   R == 'X': pKa_TerminusIonizableGroup[R] = [ avNterm, avCterm ]\n",
        "            elif R == 'Z': pKa_TerminusIonizableGroup[R] = [ (pKa_TerminusIonizableGroup['E'][0]+pKa_TerminusIonizableGroup['Q'][0])/2,  (pKa_TerminusIonizableGroup['E'][1]+pKa_TerminusIonizableGroup['Q'][1])/2  ]\n",
        "            elif R == 'B': pKa_TerminusIonizableGroup[R] = [ (pKa_TerminusIonizableGroup['N'][0]+pKa_TerminusIonizableGroup['D'][0])/2,  (pKa_TerminusIonizableGroup['N'][1]+pKa_TerminusIonizableGroup['D'][1])/2  ]\n",
        "            elif R == 'U':\n",
        "                # copy of X\n",
        "                pKa_TerminusIonizableGroup[R] = [ avNterm, avCterm ]\n",
        "            else:\n",
        "                print(\"---!Error: data for specific -NH2 and -COOH termini pKa values for residue \"+R+\" is not given in the \"+SetName+\" pKa set. Set this residue identical to X (average of all available). Check set. Exit.\")\n",
        "                sys.exit(1)\n",
        "\n",
        "    return pKa_TerminusIonizableGroup\n"
      ],
      "metadata": {
        "id": "AR1HzJDP039m"
      },
      "execution_count": null,
      "outputs": []
    },
    {
      "cell_type": "code",
      "source": [
        "\n",
        "pKa_sets={}\n",
        "pKa_sets_short={}\n",
        "\n",
        "pKa_sets_short['EMBOSS']={\n",
        " 'K':       10.8 ,\n",
        " 'R':       12.5 ,\n",
        " 'H':       6.5  ,\n",
        " 'D':       3.9  ,\n",
        " 'E':       4.1  ,\n",
        " 'C':       8.5  ,\n",
        " 'Y':       10.1 ,\n",
        " 'Nterm':   8.6  ,\n",
        " 'Cterm':   3.6\n",
        "}\n",
        "\n",
        "\n",
        "pKa_sets_short['IPC2_peptide']={\n",
        " 'K':       8.165 ,\n",
        " 'R':       11.493 ,\n",
        " 'H':       6.439 ,\n",
        " 'D':       3.969 ,\n",
        " 'E':       4.507 ,\n",
        " 'C':       9.439 ,\n",
        " 'Y':       9.153 ,\n",
        " 'Nterm':   7.947 ,\n",
        " 'Cterm':   2.977\n",
        "}\n",
        "\n",
        "\n",
        "pKa_sets_short['IPC_peptide']={\n",
        " 'K':       10.517 ,\n",
        " 'R':       12.503 ,\n",
        " 'H':       6.018  ,\n",
        " 'D':       3.887  ,\n",
        " 'E':       4.317  ,\n",
        " 'C':       8.297  ,\n",
        " 'Y':       10.071 ,\n",
        " 'Nterm':   9.564  ,\n",
        " 'Cterm':   2.383\n",
        "}\n",
        "\n",
        "#Amino acid\tNH2\tCOOH\tC\tD\tE\tH\tK\tR\tY\n",
        "pKa_sets_short['DTASelect']={\n",
        "'Nterm':\t8.0  ,\n",
        "'Cterm':\t3.1  ,\n",
        "'C'    :\t8.5  ,\n",
        "'D'    :\t4.4  ,\n",
        "'E'    : \t4.4  ,\n",
        "'H'    : \t6.5  ,\n",
        "'K'    : \t10.0 ,\n",
        "'R'    : \t12.0 ,\n",
        "'Y'    : \t10.0\n",
        "}\n",
        "\n",
        "pKa_sets_short['Bjellqvist']={\n",
        " 'Nterm':       7.5   ,\n",
        " 'Cterm':       3.55  ,\n",
        " 'C'    :       9.0   ,\n",
        " 'D'    :       4.05  ,\n",
        " 'E'    :       4.45  ,\n",
        " 'H'    :       5.98  ,\n",
        " 'K'    :       10.0  ,\n",
        " 'R'    :       12.0  ,\n",
        " 'Y'    :       10.0\n",
        "}\n",
        "\n",
        "pKa_sets_short['Solomon']={\n",
        " 'Nterm':      9.6   ,\n",
        " 'Cterm':      2.4   ,\n",
        " 'C'    :      8.3   ,\n",
        " 'D'    :      3.9   ,\n",
        " 'E'    :      4.3   ,\n",
        " 'H'    :      6.0   ,\n",
        " 'K'    :      10.5  ,\n",
        " 'R'    :     12.5   ,\n",
        " 'Y'    :     10.1\n",
        "}\n",
        "\n",
        "pKa_sets_short['Sillero']={\n",
        " 'Nterm':      8.2  ,\n",
        " 'Cterm':      3.2  ,\n",
        " 'C'    :      9.0  ,\n",
        " 'D'    :      4.0  ,\n",
        " 'E'    :      4.5  ,\n",
        " 'H'    :      6.4  ,\n",
        " 'K'    :      10.4 ,\n",
        " 'R'    :     12.0  ,\n",
        " 'Y'    :     10.0\n",
        "}\n",
        "\n",
        "\n",
        "pKa_sets_short['Rodwell']={\n",
        " 'Nterm':      8.0   ,\n",
        " 'Cterm':      3.1   ,\n",
        " 'C'    :      8.33  ,\n",
        " 'D'    :     3.68   ,\n",
        " 'E'    :     4.25   ,\n",
        " 'H'    :     6.0    ,\n",
        " 'K'    :      11.5  ,\n",
        " 'R'    :     11.5   ,\n",
        " 'Y'    :     10.07\n",
        "}\n",
        "\n",
        "pKa_sets_short['Lehninger']={\n",
        "  'Nterm':     9.69  ,\n",
        "  'Cterm':     2.34  ,\n",
        "  'C'    :     8.33  ,\n",
        "  'D'    :     3.86  ,\n",
        "  'E'    :     4.25  ,\n",
        "  'H'    :     6.0   ,\n",
        "  'K'    :      10.5 ,\n",
        "  'R'    :     12.4  ,\n",
        "  'Y'    :     10.0\n",
        "}\n",
        "\n",
        "pKa_sets_short['Grimsley']={\n",
        "  'Nterm':     7.7   ,\n",
        "  'Cterm':     3.3   ,\n",
        "  'C'    :     6.8   ,\n",
        "  'D'    :     3.5   ,\n",
        "  'E'    :     4.2   ,\n",
        "  'H'    :     6.6   ,\n",
        "  'K'    :     10.5  ,\n",
        "  'R'    :    12.04  ,\n",
        "  'Y'    :    10.3\n",
        "}\n",
        "\n",
        "pKa_sets_short['Toseland']={\n",
        "   'Nterm':   8.71   ,\n",
        "   'Cterm':   3.19   ,\n",
        "   'C'    :   6.87   ,\n",
        "   'D'    :   3.6    ,\n",
        "   'E'    :   4.29   ,\n",
        "   'H'    :   6.33   ,\n",
        "   'K'    :   10.45  ,\n",
        "   'R'    :   12.0   ,\n",
        "   'Y'    :    9.61\n",
        "}\n",
        "\n",
        "\n",
        "pKa_sets_short['Thurlkill']={\n",
        "   'Nterm':   8.0   ,\n",
        "   'Cterm':   3.67  ,\n",
        "   'C'    :   8.55  ,\n",
        "   'D'    :   3.67  ,\n",
        "   'E'    :   4.25  ,\n",
        "   'H'    :   6.54  ,\n",
        "   'K'    :   10.4  ,\n",
        "   'R'    :   12.0  ,\n",
        "   'Y'    :   9.84\n",
        "}\n",
        "\n",
        "\n",
        "pKa_sets_short['Nozaki']={\n",
        "   'Nterm':     7.5   ,\n",
        "   'Cterm':     3.8   ,\n",
        "   'C'    :     9.5   ,\n",
        "   'D'    :     4.0   ,\n",
        "   'E'    :     4.4   ,\n",
        "   'H'    :     6.3   ,\n",
        "   'K'    :     10.4  ,\n",
        "   'R'    :     12.0  ,\n",
        "   'Y'    :     9.6\n",
        "}\n",
        "\n",
        "\n",
        "pKa_sets_short['Dawson']={\n",
        "    'Nterm':     8.2 ,\n",
        "    'Cterm':     3.2 ,\n",
        "    'C'    :     8.3 ,\n",
        "    'D'    :     3.9 ,\n",
        "    'E'    :     4.3 ,\n",
        "    'H'    :     6   ,\n",
        "    'K'    :    10.5 ,\n",
        "    'R'    :    12.0 ,\n",
        "    'Y'    :    10.0\n",
        "}"
      ],
      "metadata": {
        "id": "DsfFfSPE06zA"
      },
      "execution_count": null,
      "outputs": []
    },
    {
      "cell_type": "code",
      "source": [
        "def ConvertpKaSetIntoProMoSTformat(pKaset):\n",
        "    pKa_basic1={}\n",
        "    pKa_acidic1={}\n",
        "    pKa_TerminusIonizableGroup1={}\n",
        "\n",
        "    for R in known_basic_res:\n",
        "        if R in pKa_sets_short[pKaset].keys():\n",
        "            pKa=pKa_sets_short[pKaset][R]\n",
        "            pKa_basic1[R]=[pKa,pKa,pKa]\n",
        "\n",
        "    for R in known_acidic_res:\n",
        "        if R in pKa_sets_short[pKaset].keys():\n",
        "            pKa=pKa_sets_short[pKaset][R]\n",
        "            pKa_acidic1[R]=[pKa,pKa,pKa]\n",
        "\n",
        "    for R in known_res:\n",
        "            pKa_Cterm=pKa_sets_short[pKaset]['Cterm']\n",
        "            pKa_Nterm=pKa_sets_short[pKaset]['Nterm']\n",
        "            pKa_TerminusIonizableGroup1[R]=[pKa_Nterm,pKa_Cterm]\n",
        "\n",
        "    pKa_sets[pKaset]={\n",
        "     'pKa_acidic': pKa_acidic1,\n",
        "     'pKa_basic': pKa_basic1,\n",
        "     'pKa_TerminusIonizableGroup': pKa_TerminusIonizableGroup1\n",
        "    }\n",
        "    return"
      ],
      "metadata": {
        "id": "tHTNfsIp09w9"
      },
      "execution_count": null,
      "outputs": []
    },
    {
      "cell_type": "code",
      "source": [
        "for pKaset in pKa_sets_short.keys():\n",
        "#for pKaset in ['EMBOSS']:\n",
        "    ConvertpKaSetIntoProMoSTformat(pKaset)\n",
        "\n",
        "\n",
        "### Calibrated ExPASY - from Gauci et al. Proteomics 2008, 8, 4898 as implemented in pIR\n",
        "SetName='Gauci'\n",
        "\n",
        "# Acidic_Amino_Acids\n",
        "#             AA    Primary  N-Terminal  C-Terminal\n",
        "pKa_acidic1 = {\n",
        " \"D\": [ 4.05, 4.05, 4.05 ],\n",
        " \"C\": [ 9.0 , 9.0 , 9.0  ],\n",
        " \"E\": [ 4.45, 4.45, 4.45 ],\n",
        " \"Y\": [ 10.0, 10.0, 10.0 ],\n",
        " 'U': [ 5.43, 5.20, 5.60 ]  # pK for U was taken from Byun et al. Biopolymers 2011, 95, 345\n",
        "}\n",
        "\n",
        "\n",
        "# Basic_Amino_Acids\n",
        "#             AA    Primary  N-Terminal  C-Terminal\n",
        "pKa_basic1 = {\n",
        " \"R\": [ 12.0, 12.0, 12.0 ],\n",
        " \"H\": [ 5.98, 5.98, 5.98 ],\n",
        " \"K\": [ 10.0, 10.0, 10.0 ]\n",
        "}\n",
        "\n",
        "\n",
        "# Terminal_Amino_Acids\n",
        "# AA N-term  C-Term\n",
        "pKa_TerminusIonizableGroup1 = {\n",
        " \"A\": [  7.59,   3.55 ],\n",
        " \"R\": [  7.5,    3.55 ],\n",
        " \"N\": [  6.7,    3.55 ],\n",
        " \"D\": [  7.5,    4.55 ],\n",
        " \"C\": [  6.5,    3.55 ],\n",
        " \"E\": [  7.7,    4.75 ],\n",
        " \"Q\": [  7.5,    3.55 ],\n",
        " \"G\": [  7.5,    3.55 ],\n",
        " \"H\": [  7.5,    3.55 ],\n",
        " \"I\": [  7.5,    3.55 ],\n",
        " \"L\": [  7.5,    3.55 ],\n",
        " \"K\": [  7.5,    3.55 ],\n",
        " \"M\": [  7.0,    3.55 ],\n",
        " \"F\": [  7.5,    3.55 ],\n",
        " \"P\": [  8.3599, 3.55 ],\n",
        " \"S\": [  6.93,   3.55 ],\n",
        " \"T\": [  6.82,   3.55 ],\n",
        " \"W\": [  7.5,    3.55 ],\n",
        " \"Y\": [  7.5,    3.55 ],\n",
        " \"V\": [  7.44,   3.55 ]\n",
        "}\n",
        "\n",
        "\n",
        "pKa_sets[SetName]={\n",
        " 'pKa_acidic': pKa_acidic1,\n",
        " 'pKa_basic': pKa_basic1,\n",
        " 'pKa_TerminusIonizableGroup': FillMissingAAtopKa_TerminusIonizableGroup(pKa_TerminusIonizableGroup1)\n",
        "}\n"
      ],
      "metadata": {
        "id": "eZ-9ho9Z1Ac6"
      },
      "execution_count": null,
      "outputs": []
    },
    {
      "cell_type": "code",
      "source": [
        "pKa_acidic1 = { 'D': [ 4.07,  3.57,  4.57 ],\n",
        "                'E': [ 4.45,  4.15,  4.75 ],\n",
        "                'C': [ 8.28,  8.00,  9.00 ],\n",
        "                'Y': [ 9.84,  9.34, 10.34 ],\n",
        "                'U': [ 5.43,  5.20,  5.60 ] } # pK for U was taken from Byun et al. Biopolymers 2011, 95, 345\n",
        "\n",
        "# Basic_Amino_Acids\n",
        "#             AA    Primary  N-Terminal  C-Terminal\n",
        "pKa_basic1 = {'K':  [  9.8,  10.00,  10.30 ],\n",
        "              'R':  [ 12.5,  11.50,  11.50 ],\n",
        "              'H':  [ 6.08,   4.89,   6.89 ] }\n",
        "\n",
        "# Terminal_Amino_Acids\n",
        "# AA N-term  C-Term\n",
        "pKa_TerminusIonizableGroup1 = {\n",
        " 'G': [ 7.50,  3.70 ],\n",
        " 'A': [ 7.58,  3.75 ],\n",
        " 'S': [ 6.86,  3.61 ],\n",
        " 'P': [ 8.36,  3.40 ],\n",
        " 'V': [ 7.44,  3.69 ],\n",
        " 'T': [ 7.02,  3.57 ],\n",
        " 'C': [ 8.12,  3.10 ],\n",
        " 'I': [ 7.48,  3.72 ],\n",
        " 'L': [ 7.46,  3.73 ],\n",
        " 'N': [ 7.22,  3.64 ],\n",
        " 'D': [ 7.70,  3.50 ],\n",
        " 'Q': [ 6.73,  3.57 ],\n",
        " 'K': [ 6.67,  3.40 ],\n",
        " 'E': [ 7.19,  3.50 ],\n",
        " 'M': [ 6.98,  3.68 ],\n",
        " 'H': [ 7.18,  3.17 ],\n",
        " 'F': [ 6.96,  3.98 ],\n",
        " 'R': [ 6.76,  3.41 ],\n",
        " 'Y': [ 6.83,  3.60 ],\n",
        " 'W': [ 7.11,  3.78 ],\n",
        " 'X': [ 7.26,  3.57 ],\n",
        " 'U': [ 7.26,  3.57 ], ### copy of X\n",
        " 'Z': [ 6.96,  3.54 ],\n",
        " 'B': [ 7.46,  3.57 ]  }\n",
        "\n",
        "pKa_sets['ProMoST']={\n",
        " 'pKa_acidic': pKa_acidic1,\n",
        " 'pKa_basic': pKa_basic1,\n",
        " 'pKa_TerminusIonizableGroup': pKa_TerminusIonizableGroup1\n",
        "}\n",
        "\n",
        "\n",
        "### Noncanonical AAs. These values used for all sets of pKa available for standard AAs.\n",
        "# PTM. Not complete... to exdend upon request\n",
        "pKa_noncanonical = {'pKa1_phosphate':1.2,\n",
        "                    'pKa2_phosphate':6.9,\n",
        "                    'dpKa_alkylLys': 0.15, # data from ACD lab: pKa of amine: 10.69. The delta for methylated amine compared to amine.  ### Zhang, Vogel, J. Bio. Chem. 1993, 268, 30, 22420 (Table III, Lys75) pKas of methylated 10.87, dimethylated 10.12,\n",
        "                    'dpKa_dialkylLys': 0.15 - 0.75\n",
        "                   } # data from Zhang, Vogel et al.  (ACD lab: pKa of dimethylamine: 9.83 +- 0.28 - error too high. The delta for methylated amine compared to amine.  ### Zhang, Vogel, J. Bio. Chem. 1993, 268, 30, 22420 (Table III, Lys75) pKas of methylated 10.87, dimethylated 10.12,\n",
        "\n",
        "\n",
        "\n",
        "\n",
        "\n",
        "#Ala\tA\tAlanine\n",
        "#Arg\tR\tArginine\n",
        "#Asn\tN\tAsparagine\n",
        "#Asp\tD\tAspartic acid\n",
        "#Cys\tC\tCysteine\n",
        "#Gln\tQ\tGlutamine\n",
        "#Glu\tE\tGlutamic acid\n",
        "#Gly\tG\tGlycine\n",
        "#His\tH\tHistidine\n",
        "#Ile\tI\tIsoleucine\n",
        "#Leu\tL\tLeucine\n",
        "#Lys\tK\tLysine\n",
        "#Met\tM\tMethionine\n",
        "#Phe\tF\tPhenylalanine\n",
        "#Pro\tP\tProline\n",
        "#Pyl\tO\tPyrrolysine\n",
        "#Ser\tS\tSerine\n",
        "#Sec\tU\tSelenocysteine\n",
        "#Thr\tT\tThreonine\n",
        "#Trp\tW\tTryptophan\n",
        "#Tyr\tY\tTyrosine\n",
        "#Val\tV\tValine\n",
        "#Asx\tB\tAspartic acid or Asparagine\n",
        "#Glx\tZ\tGlutamic acid or Glutamine\n",
        "#Xaa\tX\tAny amino acid\n",
        "#Xle\tJ\tLeucine or Isoleucine\n",
        "#TERM\t\ttermination codon"
      ],
      "metadata": {
        "id": "SqzPwKnn1Gag"
      },
      "execution_count": null,
      "outputs": []
    },
    {
      "cell_type": "markdown",
      "source": [
        " بخش سومت از اینجا شروع میشه"
      ],
      "metadata": {
        "id": "uqS6KUca48E1"
      }
    },
    {
      "cell_type": "code",
      "source": [
        "! pip install PeptideBuilder"
      ],
      "metadata": {
        "colab": {
          "base_uri": "https://localhost:8080/"
        },
        "id": "vZn4GoM64q4u",
        "outputId": "8d5a6771-728a-4c7a-dac4-cda2642993b3"
      },
      "execution_count": 15,
      "outputs": [
        {
          "output_type": "stream",
          "name": "stdout",
          "text": [
            "Collecting PeptideBuilder\n",
            "  Downloading PeptideBuilder-1.1.0-py3-none-any.whl (14 kB)\n",
            "Collecting Biopython (from PeptideBuilder)\n",
            "  Downloading biopython-1.83-cp310-cp310-manylinux_2_17_x86_64.manylinux2014_x86_64.whl (3.1 MB)\n",
            "\u001b[2K     \u001b[90m━━━━━━━━━━━━━━━━━━━━━━━━━━━━━━━━━━━━━━━━\u001b[0m \u001b[32m3.1/3.1 MB\u001b[0m \u001b[31m29.4 MB/s\u001b[0m eta \u001b[36m0:00:00\u001b[0m\n",
            "\u001b[?25hRequirement already satisfied: numpy in /usr/local/lib/python3.10/dist-packages (from Biopython->PeptideBuilder) (1.25.2)\n",
            "Installing collected packages: Biopython, PeptideBuilder\n",
            "Successfully installed Biopython-1.83 PeptideBuilder-1.1.0\n"
          ]
        }
      ]
    },
    {
      "cell_type": "code",
      "source": [
        "from PeptideBuilder import Geometry\n",
        "import PeptideBuilder\n"
      ],
      "metadata": {
        "id": "zrefmTi74pqG"
      },
      "execution_count": 19,
      "outputs": []
    },
    {
      "cell_type": "code",
      "source": [
        "# create a peptide consisting of 6 glycines\n",
        "geo = Geometry.geometry(\"G\")\n",
        "geo.phi = -60\n",
        "geo.psi_im1 = -40\n",
        "structure = PeptideBuilder.initialize_res(geo)\n",
        "for i in range(5):\n",
        "    PeptideBuilder.add_residue(structure, geo)\n",
        "# add terminal oxygen (OXT) to the final glycine\n",
        "PeptideBuilder.add_terminal_OXT(structure)\n"
      ],
      "metadata": {
        "colab": {
          "base_uri": "https://localhost:8080/"
        },
        "id": "jt4Juaxg4zcO",
        "outputId": "fcb9e708-07c5-4e6a-8d28-4cb7f7460316"
      },
      "execution_count": 26,
      "outputs": [
        {
          "output_type": "execute_result",
          "data": {
            "text/plain": [
              "<Structure id=X>"
            ]
          },
          "metadata": {},
          "execution_count": 26
        }
      ]
    },
    {
      "cell_type": "code",
      "source": [
        "import Bio.PDB\n",
        "\n",
        "out = Bio.PDB.PDBIO()\n",
        "out.set_structure(structure)\n",
        "out.save(\"example.pdb\")"
      ],
      "metadata": {
        "id": "7_OAiWoP41xI"
      },
      "execution_count": 20,
      "outputs": []
    }
  ]
}